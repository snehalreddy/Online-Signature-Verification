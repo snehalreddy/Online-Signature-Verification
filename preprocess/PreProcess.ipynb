{
 "cells": [
  {
   "cell_type": "markdown",
   "metadata": {},
   "source": [
    "## PRE-PROCESSING AND CALCULATION OF ATTRIBUTES"
   ]
  },
  {
   "cell_type": "code",
   "execution_count": 1,
   "metadata": {},
   "outputs": [],
   "source": [
    "# This small sample data set contains signature data collected from\n",
    "# five users.  For each user, there are 20 genuine signatures and\n",
    "# 20 skilled forgeries.\n",
    "\n",
    "# Each genuine/forgery signature is stored in a separate text file.\n",
    "# The file names are in the format \"USERx_y.txt\", where x (1..5)\n",
    "# indicates the user and y (1..40) indicates one signature instance\n",
    "# of the corresponding user, with the first 20 (1..20) representing\n",
    "# genuine signatures and the rest (21..40) representing skilled\n",
    "# forgeries provided by the other users. \n",
    "\n",
    "# In each text file, the signature is simply represented as a\n",
    "# sequence of points.  The first line stores a single integer which\n",
    "# is the total number of points in the signature.  Each of the\n",
    "# subsequent lines corresponds to one point characterized by seven\n",
    "# features listed in the following order:\n",
    "\n",
    "#   X-coordinate  - scaled cursor position along the x-axis\n",
    "#   Y-coordinate  - scaled cursor position along the y-axis\n",
    "#   Time stamp    - system time at which the event was posted\n",
    "#   Button status - current button status (0 for pen-up and\n",
    "#                   1 for pen-down)\n",
    "#   Azimuth       - clockwise rotation of cursor about the z-axis\n",
    "#   Altitude      - angle upward toward the positive z-axis\n",
    "#   Pressure      - adjusted state of the normal pressure"
   ]
  },
  {
   "cell_type": "markdown",
   "metadata": {},
   "source": [
    "## Library Imports"
   ]
  },
  {
   "cell_type": "code",
   "execution_count": 2,
   "metadata": {},
   "outputs": [],
   "source": [
    "import pandas as pd\n",
    "import numpy as np\n",
    "import math\n",
    "import os"
   ]
  },
  {
   "cell_type": "markdown",
   "metadata": {},
   "source": [
    "## Variable Declarations"
   ]
  },
  {
   "cell_type": "code",
   "execution_count": 10,
   "metadata": {},
   "outputs": [],
   "source": [
    "file_name=''\n",
    "file_size=0\n",
    "X=[]\n",
    "Y=[]\n",
    "TS=[]\n",
    "BS=[]\n",
    "AZ=[]\n",
    "AL=[]\n",
    "P=[]\n",
    "V=[]\n",
    "SDX=[]\n",
    "SDY=[]\n",
    "A=[]\n",
    "SDV=[]\n",
    "SDA=[]\n",
    "aX=0\n",
    "aY=0\n",
    "aV=0\n",
    "aA=0"
   ]
  },
  {
   "cell_type": "markdown",
   "metadata": {},
   "source": [
    "## Preprocessing the files and evaluating velocity, standard deviations of X and Y"
   ]
  },
  {
   "cell_type": "code",
   "execution_count": 11,
   "metadata": {},
   "outputs": [
    {
     "name": "stdout",
     "output_type": "stream",
     "text": [
      "Wall time: 1min 8s\n"
     ]
    }
   ],
   "source": [
    "%%time\n",
    "for i in range(1,41):\n",
    "    for j in range(1,41):\n",
    "        file_name='../signature_data/U'+str(i)+'S'+str(j)+'.txt'\n",
    "        file=pd.read_csv(file_name,delimiter=' ',names=['X','Y','TS','BS','AZ','AL','P'],header=None,skiprows=1)\n",
    "        file_size=len(file)\n",
    "        X=file['X']\n",
    "        Y=file['Y']\n",
    "        TS=file['TS']\n",
    "        BS=file['BS']\n",
    "        AZ=file['AZ']\n",
    "        AL=file['AL']\n",
    "        P=file['P']\n",
    "        aX=sum(X)/file_size\n",
    "        aY=sum(Y)/file_size\n",
    "        for k in range(0,file_size-1):\n",
    "            if TS[k]==TS[k+1]:\n",
    "                X[k+1]=(X[k]+X[k+1])/2\n",
    "                Y[k+1]=(Y[k]+Y[k+1])/2\n",
    "                TS[k+1]=(TS[k]+1)\n",
    "                BS[k+1]=(BS[k]+BS[k+1])/2\n",
    "                AZ[k+1]=(AZ[k]+AZ[k+1])/2\n",
    "                AL[k+1]=(AL[k]+AL[k+1])/2\n",
    "                P[k+1]=(P[k]+P[k+1])/2\n",
    "            if k<file_size-1:\n",
    "                V.append(((math.sqrt((X[k+1]-X[k])**2+(Y[k+1]-Y[k])**2))*(TS[file_size-1]-TS[0]))/(TS[k+1]-TS[k]))\n",
    "            SDX.append((X[k]-aX)**2)\n",
    "            SDY.append((Y[k]-aY)**2)\n",
    "        SDX.append((X[file_size-1]-aX)**2)\n",
    "        SDY.append((Y[file_size-1]-aY)**2)\n",
    "        V.append(0)\n",
    "        data={'X':X,'Y':Y,'TS':TS,'BS':BS,'AZ':AZ,'AL':AL,'P':P,'V':V,'SDX':SDX,'SDY':SDY}\n",
    "        df=pd.DataFrame(data)\n",
    "        V.clear()\n",
    "        SDX.clear()\n",
    "        SDY.clear()\n",
    "        file_name_preprocessed='../signature_data_preprocessed/U'+str(i)+'S'+str(j)+'.txt'\n",
    "        np.savetxt(file_name_preprocessed, df.values, fmt='%.3f')"
   ]
  },
  {
   "cell_type": "code",
   "execution_count": 13,
   "metadata": {},
   "outputs": [
    {
     "data": {
      "text/html": [
       "<div>\n",
       "<style scoped>\n",
       "    .dataframe tbody tr th:only-of-type {\n",
       "        vertical-align: middle;\n",
       "    }\n",
       "\n",
       "    .dataframe tbody tr th {\n",
       "        vertical-align: top;\n",
       "    }\n",
       "\n",
       "    .dataframe thead th {\n",
       "        text-align: right;\n",
       "    }\n",
       "</style>\n",
       "<table border=\"1\" class=\"dataframe\">\n",
       "  <thead>\n",
       "    <tr style=\"text-align: right;\">\n",
       "      <th></th>\n",
       "      <th>X</th>\n",
       "      <th>Y</th>\n",
       "      <th>TS</th>\n",
       "      <th>BS</th>\n",
       "      <th>AZ</th>\n",
       "      <th>AL</th>\n",
       "      <th>P</th>\n",
       "      <th>V</th>\n",
       "      <th>SDX</th>\n",
       "      <th>SDY</th>\n",
       "    </tr>\n",
       "  </thead>\n",
       "  <tbody>\n",
       "    <tr>\n",
       "      <td>0</td>\n",
       "      <td>209</td>\n",
       "      <td>NaN</td>\n",
       "      <td>NaN</td>\n",
       "      <td>NaN</td>\n",
       "      <td>NaN</td>\n",
       "      <td>NaN</td>\n",
       "      <td>NaN</td>\n",
       "      <td>NaN</td>\n",
       "      <td>NaN</td>\n",
       "      <td>NaN</td>\n",
       "    </tr>\n",
       "    <tr>\n",
       "      <td>1</td>\n",
       "      <td>5382</td>\n",
       "      <td>6473.0</td>\n",
       "      <td>1289624.0</td>\n",
       "      <td>0.0</td>\n",
       "      <td>1220.0</td>\n",
       "      <td>480.0</td>\n",
       "      <td>76.0</td>\n",
       "      <td>NaN</td>\n",
       "      <td>NaN</td>\n",
       "      <td>NaN</td>\n",
       "    </tr>\n",
       "    <tr>\n",
       "      <td>2</td>\n",
       "      <td>5416</td>\n",
       "      <td>6442.0</td>\n",
       "      <td>1289634.0</td>\n",
       "      <td>1.0</td>\n",
       "      <td>1230.0</td>\n",
       "      <td>490.0</td>\n",
       "      <td>149.0</td>\n",
       "      <td>NaN</td>\n",
       "      <td>NaN</td>\n",
       "      <td>NaN</td>\n",
       "    </tr>\n",
       "    <tr>\n",
       "      <td>3</td>\n",
       "      <td>5441</td>\n",
       "      <td>6478.0</td>\n",
       "      <td>1289644.0</td>\n",
       "      <td>1.0</td>\n",
       "      <td>1230.0</td>\n",
       "      <td>490.0</td>\n",
       "      <td>214.0</td>\n",
       "      <td>NaN</td>\n",
       "      <td>NaN</td>\n",
       "      <td>NaN</td>\n",
       "    </tr>\n",
       "    <tr>\n",
       "      <td>4</td>\n",
       "      <td>5406</td>\n",
       "      <td>6465.0</td>\n",
       "      <td>1289654.0</td>\n",
       "      <td>1.0</td>\n",
       "      <td>1230.0</td>\n",
       "      <td>490.0</td>\n",
       "      <td>289.0</td>\n",
       "      <td>NaN</td>\n",
       "      <td>NaN</td>\n",
       "      <td>NaN</td>\n",
       "    </tr>\n",
       "  </tbody>\n",
       "</table>\n",
       "</div>"
      ],
      "text/plain": [
       "      X       Y         TS   BS      AZ     AL      P   V  SDX  SDY\n",
       "0   209     NaN        NaN  NaN     NaN    NaN    NaN NaN  NaN  NaN\n",
       "1  5382  6473.0  1289624.0  0.0  1220.0  480.0   76.0 NaN  NaN  NaN\n",
       "2  5416  6442.0  1289634.0  1.0  1230.0  490.0  149.0 NaN  NaN  NaN\n",
       "3  5441  6478.0  1289644.0  1.0  1230.0  490.0  214.0 NaN  NaN  NaN\n",
       "4  5406  6465.0  1289654.0  1.0  1230.0  490.0  289.0 NaN  NaN  NaN"
      ]
     },
     "execution_count": 13,
     "metadata": {},
     "output_type": "execute_result"
    }
   ],
   "source": [
    "file_name_preprocessed='../signature_data_preprocessed/U'+str(i)+'S'+str(j)+'.txt'\n",
    "file=pd.read_csv(file_name,delimiter=' ',names=['X','Y','TS','BS','AZ','AL','P','V','SDX','SDY'],header=None)\n",
    "file.head()"
   ]
  },
  {
   "cell_type": "markdown",
   "metadata": {},
   "source": [
    "## Calculation of Acceleration"
   ]
  },
  {
   "cell_type": "code",
   "execution_count": null,
   "metadata": {},
   "outputs": [],
   "source": [
    "%%time\n",
    "for i in range(1,41):\n",
    "    for j in range(1,41):\n",
    "        file_name_preprocessed='../signature_data_preprocessed/U'+str(i)+'S'+str(j)+'.txt'\n",
    "        file=pd.read_csv(file_name_preprocessed,delimiter=' ',names=['X','Y','TS','BS','AZ','AL','P','V','SDX','SDY'],header=None)\n",
    "        file_size=len(file)\n",
    "        X=file['X']\n",
    "        Y=file['Y']\n",
    "        TS=file['TS']\n",
    "        BS=file['BS']\n",
    "        AZ=file['AZ']\n",
    "        AL=file['AL']\n",
    "        P=file['P']\n",
    "        V=file['V']\n",
    "        SDX=file['SDX']\n",
    "        SDY=file['SDY']\n",
    "        for k in range(0,file_size):\n",
    "            if k<file_size-1:\n",
    "                A.append(((abs(V[k+1]-V[k]))*(TS[file_size-1]-TS[0]))/(TS[k+1]-TS[k]))\n",
    "        A.append(0)\n",
    "        data={'X':X,'Y':Y,'TS':TS,'BS':BS,'AZ':AZ,'AL':AL,'P':P,'V':V,'SDX':SDX,'SDY':SDY,'A':A}\n",
    "        df=pd.DataFrame(data)\n",
    "        A.clear()\n",
    "        np.savetxt(file_name_preprocessed, df.values, fmt='%.3f')"
   ]
  },
  {
   "cell_type": "markdown",
   "metadata": {},
   "source": [
    "## Calculation of Standard deviations of velocity and acceleration"
   ]
  },
  {
   "cell_type": "code",
   "execution_count": null,
   "metadata": {},
   "outputs": [],
   "source": [
    "%%time\n",
    "for i in range(1,41):\n",
    "    for j in range(1,41):\n",
    "        file_name_preprocessed='../signature_data_preprocessed/U'+str(i)+'S'+str(j)+'.txt'\n",
    "        file=pd.read_csv(file_name,delimiter=' ',names=['X','Y','TS','BS','AZ','AL','P','V','SDX','SDY','A'],header=None)\n",
    "        file_size=len(file)\n",
    "        X=file['X']\n",
    "        Y=file['Y']\n",
    "        TS=file['TS']\n",
    "        BS=file['BS']\n",
    "        AZ=file['AZ']\n",
    "        AL=file['AL']\n",
    "        P=file['P']\n",
    "        V=file['V']\n",
    "        SDX=file['SDX']\n",
    "        SDY=file['SDY']\n",
    "        A=file['A']\n",
    "        aV=sum(V)/file_size\n",
    "        aA=sum(A)/file_size\n",
    "        for k in range(0,file_size):\n",
    "            SDV.append((V[k]-aV)**2)\n",
    "            SDA.append((A[k]-aA)**2)\n",
    "        data={'X':X,'Y':Y,'TS':TS,'BS':BS,'AZ':AZ,'AL':AL,'P':P,'V':V,'SDX':SDX,'SDY':SDY,'A':A,'SDV':SDV,'SDA':SDA}\n",
    "        df=pd.DataFrame(data)\n",
    "        SDV.clear()\n",
    "        SDA.clear()\n",
    "        np.savetxt(file_name_preprocessed, df.values, fmt='%.3f')"
   ]
  },
  {
   "cell_type": "code",
   "execution_count": null,
   "metadata": {},
   "outputs": [],
   "source": []
  }
 ],
 "metadata": {
  "kernelspec": {
   "display_name": "Python 3",
   "language": "python",
   "name": "python3"
  },
  "language_info": {
   "codemirror_mode": {
    "name": "ipython",
    "version": 3
   },
   "file_extension": ".py",
   "mimetype": "text/x-python",
   "name": "python",
   "nbconvert_exporter": "python",
   "pygments_lexer": "ipython3",
   "version": "3.7.7"
  }
 },
 "nbformat": 4,
 "nbformat_minor": 4
}
