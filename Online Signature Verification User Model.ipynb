{
 "cells": [
  {
   "cell_type": "code",
   "execution_count": null,
   "metadata": {
    "_cell_guid": "79c7e3d0-c299-4dcb-8224-4455121ee9b0",
    "_uuid": "d629ff2d2480ee46fbb7e2d37f6b5fab8052498a",
    "scrolled": true
   },
   "outputs": [],
   "source": [
    "import tensorflow as tf\n",
    "from tensorflow import keras\n",
    "import pandas as pd\n",
    "import numpy as np\n",
    "import matplotlib.pyplot as plt\n",
    "from sklearn.model_selection import train_test_split\n",
    "from sklearn.preprocessing import RobustScaler\n",
    "import os\n",
    "\n",
    "pd.set_option('display.max_columns', None)"
   ]
  },
  {
   "cell_type": "code",
   "execution_count": null,
   "metadata": {
    "_cell_guid": "79c7e3d0-c299-4dcb-8224-4455121ee9b0",
    "_uuid": "d629ff2d2480ee46fbb7e2d37f6b5fab8052498a",
    "scrolled": true
   },
   "outputs": [],
   "source": [
    "# FOR NORMALIZING FEATURE VECTOR\n",
    "feature_vector_main = pd.read_csv('../input/svc2004-16features/Features.csv')\n",
    "feature_vector = feature_vector_main[\n",
    "                         ['avgX', 'avgY', 'avgSDX', 'avgSDY', 'avgV', 'avgA', 'avgSDV', 'avgSDA', 'pen_down', 'pen_up',\n",
    "                          'pen_ratio', 'sign_width', 'sign_height', 'width_height_ratio', 'total_sign_duration',\n",
    "                          'range_pressure', 'max_pressure', 'sample_points', 'sample_points_to_width', 'mean_pressure',\n",
    "                          'pressure_variance', 'avg_x_velocity', 'avg_y_velocity', 'max_x_velocity', 'max_y_velocity',\n",
    "                          'samples_positive_x_velocity', 'samples_positive_y_velocity', 'variance_x_velocity',\n",
    "                          'variance_y_velocity', 'std_x_velocity', 'std_y_velocity', 'median_x_velocity',\n",
    "                          'median_y_velocity', 'corr_x_y_velocity', 'mean_x_acceleration', 'mean_y_acceleration',\n",
    "                          'corr_x_y_acceleration', 'variance_x_acceleration', 'variance_y_acceleration',\n",
    "                          'std_x_acceleration', 'std_y_acceleration', 'x_local_minima', 'y_local_minima']]\n",
    "\n",
    "# scaler = RobustScaler()\n",
    "# feature_vector = scaler.fit_transform(feature_vector)\n",
    "# feature_vector = pd.DataFrame(feature_vector)\n",
    "# feature_vector.columns = ['avgX', 'avgY', 'avgSDX', 'avgSDY', 'avgV', 'avgA', 'avgSDV', 'avgSDA', 'pen_down', 'pen_up',\n",
    "#                           'pen_ratio', 'sign_width', 'sign_height', 'width_height_ratio', 'total_sign_duration',\n",
    "#                           'range_pressure', 'max_pressure', 'sample_points', 'sample_points_to_width', 'mean_pressure',\n",
    "#                           'pressure_variance', 'avg_x_velocity', 'avg_y_velocity', 'max_x_velocity', 'max_y_velocity',\n",
    "#                           'samples_positive_x_velocity', 'samples_positive_y_velocity', 'variance_x_velocity',\n",
    "#                           'variance_y_velocity', 'std_x_velocity', 'std_y_velocity', 'median_x_velocity',\n",
    "#                           'median_y_velocity', 'corr_x_y_velocity', 'mean_x_acceleration', 'mean_y_acceleration',\n",
    "#                           'corr_x_y_acceleration', 'variance_x_acceleration', 'variance_y_acceleration',\n",
    "#                           'std_x_acceleration', 'std_y_acceleration', 'x_local_minima', 'y_local_minima']\n",
    "\n",
    "feature_vector = ((feature_vector - feature_vector.min()) / (feature_vector.max() - feature_vector.min()))\n",
    "\n",
    "feature_vector['ID'] = feature_vector_main['ID'] - 1\n",
    "feature_vector['F'] = feature_vector_main['F']\n",
    "\n",
    "feature_vector.to_csv('features_normalized.csv', index=False)\n",
    "\n",
    "feature_vector = pd.read_csv('features_normalized.csv')"
   ]
  },
  {
   "cell_type": "code",
   "execution_count": null,
   "metadata": {
    "_cell_guid": "79c7e3d0-c299-4dcb-8224-4455121ee9b0",
    "_uuid": "d629ff2d2480ee46fbb7e2d37f6b5fab8052498a",
    "scrolled": true
   },
   "outputs": [],
   "source": [
    "num_of_signatures = 40  # number of classes\n",
    "print('The number of signatures are:', num_of_signatures)\n",
    "split_percentage = 0.1"
   ]
  },
  {
   "cell_type": "code",
   "execution_count": null,
   "metadata": {
    "_cell_guid": "79c7e3d0-c299-4dcb-8224-4455121ee9b0",
    "_uuid": "d629ff2d2480ee46fbb7e2d37f6b5fab8052498a",
    "scrolled": true
   },
   "outputs": [],
   "source": [
    "# SHUFFLING DATASET\n",
    "# TOTAL DATASET THAT IS TRAINED OR TESTED\n",
    "total_df = feature_vector[:(40 * num_of_signatures)].sample(frac=1).reset_index(drop=True)"
   ]
  },
  {
   "cell_type": "code",
   "execution_count": null,
   "metadata": {
    "scrolled": true
   },
   "outputs": [],
   "source": [
    "# using train_test_split\n",
    "y = total_df['ID']\n",
    "X = total_df.drop(['ID', 'F'], axis=1)\n",
    "print(X.shape, y.shape)"
   ]
  },
  {
   "cell_type": "code",
   "execution_count": null,
   "metadata": {
    "scrolled": true
   },
   "outputs": [],
   "source": [
    "x_train, x_val, y_train, y_val = train_test_split(X, y, test_size=split_percentage, shuffle=True)\n",
    "print(x_train.shape, x_val.shape, y_train.shape, y_val.shape)\n",
    "x_train.head()"
   ]
  },
  {
   "cell_type": "code",
   "execution_count": null,
   "metadata": {
    "_cell_guid": "79c7e3d0-c299-4dcb-8224-4455121ee9b0",
    "_uuid": "d629ff2d2480ee46fbb7e2d37f6b5fab8052498a",
    "scrolled": true
   },
   "outputs": [],
   "source": [
    "# # TRAIN TEST SPLIT\n",
    "# train_data_count = int(0.8 * (40 * num_of_signatures))\n",
    "# train_df = total_df[:train_data_count]\n",
    "# test_df = total_df[train_data_count:(40 * num_of_signatures)]\n",
    "\n",
    "# x_train = train_df[\n",
    "#     ['avgX', 'avgY', 'avgSDX', 'avgSDY', 'avgV', 'avgA', 'avgSDV', 'avgSDA', 'pen_down', 'pen_up', 'pen_ratio',\n",
    "#      'sign_width', 'sign_height', 'width_height_ratio', 'total_sign_duration', 'range_pressure']]\n",
    "# y_train = train_df['ID']\n",
    "\n",
    "# x_test = test_df[\n",
    "#     ['avgX', 'avgY', 'avgSDX', 'avgSDY', 'avgV', 'avgA', 'avgSDV', 'avgSDA', 'pen_down', 'pen_up', 'pen_ratio',\n",
    "#      'sign_width', 'sign_height', 'width_height_ratio', 'total_sign_duration', 'range_pressure']]\n",
    "# y_test = test_df['ID']"
   ]
  },
  {
   "cell_type": "code",
   "execution_count": null,
   "metadata": {
    "_cell_guid": "79c7e3d0-c299-4dcb-8224-4455121ee9b0",
    "_uuid": "d629ff2d2480ee46fbb7e2d37f6b5fab8052498a",
    "scrolled": true
   },
   "outputs": [],
   "source": [
    "# NEURAL NETWORK 1\n",
    "model = keras.Sequential([\n",
    "    keras.layers.Dense(6144, input_shape=[x_train.shape[1]]),\n",
    "    keras.layers.Dense(4096, activation='relu'),\n",
    "    keras.layers.Dense(2048, activation='relu'),\n",
    "    keras.layers.Dropout(0.5),\n",
    "    keras.layers.Dense(2048, activation='relu'),\n",
    "    keras.layers.Dense(1024, activation='relu'),\n",
    "    keras.layers.Dense(1024, activation='relu'),\n",
    "    keras.layers.Dense(512, activation='relu'),\n",
    "    keras.layers.Dense(num_of_signatures, activation='softmax')\n",
    "])\n",
    "\n",
    "model.summary()\n",
    "\n",
    "# optimizers\n",
    "optimizer = ['SGD', 'RMSprop', 'Adagrad', 'Adadelta', 'Adam', 'Adamax', 'Nadam']\n",
    "rms_prop = keras.optimizers.RMSprop(learning_rate=0.0001, rho=0.9)\n",
    "ada_grad = tf.keras.optimizers.Adagrad(learning_rate=0.0001, initial_accumulator_value=0.1, epsilon=1e-07)\n",
    "adam = keras.optimizers.Adam(learning_rate=0.0001, beta_1=0.9, beta_2=0.999, amsgrad=False)\n",
    "ada_max = tf.keras.optimizers.Adamax(learning_rate=0.0001, beta_1=0.9, beta_2=0.999, epsilon=1e-07)\n",
    "\n",
    "model.compile(optimizer=rms_prop, loss=tf.keras.losses.sparse_categorical_crossentropy, metrics=['accuracy'])"
   ]
  },
  {
   "cell_type": "code",
   "execution_count": null,
   "metadata": {
    "scrolled": true
   },
   "outputs": [],
   "source": [
    "learning_rate_reduction = keras.callbacks.ReduceLROnPlateau(monitor='val_accuracy', \n",
    "                                            patience=7, \n",
    "                                            verbose=1, \n",
    "                                            factor=0.25, \n",
    "                                            min_lr=0.000001)\n",
    "\n",
    "early_stopping = tf.keras.callbacks.EarlyStopping(monitor='val_loss', patience=3, min_delta=0,\n",
    "                                                  verbose=1, mode='auto', restore_best_weights=False)"
   ]
  },
  {
   "cell_type": "code",
   "execution_count": null,
   "metadata": {
    "_cell_guid": "79c7e3d0-c299-4dcb-8224-4455121ee9b0",
    "_uuid": "d629ff2d2480ee46fbb7e2d37f6b5fab8052498a"
   },
   "outputs": [],
   "source": [
    "history = model.fit(x_train, y_train, epochs=150, validation_data=(x_val, y_val), callbacks=[learning_rate_reduction])"
   ]
  },
  {
   "cell_type": "code",
   "execution_count": null,
   "metadata": {},
   "outputs": [],
   "source": [
    "# summarize history for train and test accuracy\n",
    "plt.plot(history.history['accuracy'])\n",
    "plt.plot(history.history['val_accuracy'])\n",
    "plt.title('model accuracy')\n",
    "plt.ylabel('accuracy')\n",
    "plt.xlabel('epoch')\n",
    "plt.legend(['train', 'test'], loc='upper left')\n",
    "plt.show()"
   ]
  },
  {
   "cell_type": "code",
   "execution_count": null,
   "metadata": {},
   "outputs": [],
   "source": [
    "# summarize history for train and test loss\n",
    "plt.plot(history.history['loss'])\n",
    "plt.plot(history.history['val_loss'])\n",
    "plt.title('model loss')\n",
    "plt.ylabel('loss')\n",
    "plt.xlabel('epoch')\n",
    "plt.legend(['train', 'test'], loc='upper left')\n",
    "plt.show()"
   ]
  },
  {
   "cell_type": "code",
   "execution_count": null,
   "metadata": {
    "_cell_guid": "79c7e3d0-c299-4dcb-8224-4455121ee9b0",
    "_uuid": "d629ff2d2480ee46fbb7e2d37f6b5fab8052498a",
    "scrolled": true
   },
   "outputs": [],
   "source": [
    "# # testing using the test dataset\n",
    "# _, test_accuracy_1 = model.evaluate(x_val, y_val)\n",
    "# print('The accuracy of model 1:', test_accuracy_1)"
   ]
  },
  {
   "cell_type": "code",
   "execution_count": null,
   "metadata": {
    "_cell_guid": "79c7e3d0-c299-4dcb-8224-4455121ee9b0",
    "_uuid": "d629ff2d2480ee46fbb7e2d37f6b5fab8052498a",
    "scrolled": true
   },
   "outputs": [],
   "source": [
    "# model.save('model_val_9875_rms_8.h5')"
   ]
  },
  {
   "cell_type": "code",
   "execution_count": null,
   "metadata": {
    "_cell_guid": "79c7e3d0-c299-4dcb-8224-4455121ee9b0",
    "_uuid": "d629ff2d2480ee46fbb7e2d37f6b5fab8052498a",
    "scrolled": true
   },
   "outputs": [],
   "source": [
    "# # neural network testing\n",
    "# model = keras.models.load_model('model_val_96.h5')\n",
    "\n",
    "# # user 0\n",
    "# user = np.argmax(model.predict([[-0.6125257646193386,0.4151867824260709,-0.0011056291780491628,0.9474710991886862,-0.11563571586919123,-0.43863590776697775,-0.40311886181555184,-0.01804716430842045,-0.8588235294117647,0.25,-0.5027769083957752,0.07720717551881814,0.39905120692060836,-0.2795311374734562,-0.6834170854271356,0.35728952772073924,0.21643286573146292,-0.8571428571428571,-0.6919285800201466,0.1833992831665563,0.5235969059847934,2.0692303345957384,-0.8018494583335899,0.6692708333333331,-0.2414634146341463,-0.9148936170212766,-0.7647058823529411,1.6312799041308752,-0.10265984780406812,1.2035995901238192,-0.10678580469224899,0.846153846153846,-0.09090909090909088,0.09308467022142258,1.6405392730640083,-0.4681958418004259,0.010188306408870506,0.3505552272836884,-0.10998369566848107,0.35469646965234075,-0.17367654762298204,0.25,-0.6666666666666666]]))\n",
    "# print('result:', user)"
   ]
  },
  {
   "cell_type": "markdown",
   "metadata": {},
   "source": [
    "######################################################################################################"
   ]
  }
 ],
 "metadata": {
  "kernelspec": {
   "display_name": "Python 3",
   "language": "python",
   "name": "python3"
  },
  "language_info": {
   "codemirror_mode": {
    "name": "ipython",
    "version": 3
   },
   "file_extension": ".py",
   "mimetype": "text/x-python",
   "name": "python",
   "nbconvert_exporter": "python",
   "pygments_lexer": "ipython3",
   "version": "3.7.7"
  }
 },
 "nbformat": 4,
 "nbformat_minor": 4
}
